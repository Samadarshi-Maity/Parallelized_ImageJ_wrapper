{
 "cells": [
  {
   "cell_type": "markdown",
   "id": "46a0a71e",
   "metadata": {},
   "source": [
    "# Image Identification using \"pyimagej\""
   ]
  },
  {
   "cell_type": "code",
   "execution_count": 1,
   "id": "ca680db4",
   "metadata": {},
   "outputs": [],
   "source": [
    "from FIJI_Marco_For_Particle_Identification_V_stable_Rings import process_NF_particles as pnp\n",
    "import glob\n",
    "import multiprocessing as mp\n",
    "import numpy as np \n",
    "import pandas as pd\n",
    "import scipy.io as sio\n",
    "import shutil\n",
    "import time \n",
    "import gc\n",
    "import os"
   ]
  },
  {
   "cell_type": "markdown",
   "id": "e56c6e8b",
   "metadata": {},
   "source": [
    "# Legacy sections "
   ]
  },
  {
   "cell_type": "code",
   "execution_count": 2,
   "id": "33a87513",
   "metadata": {},
   "outputs": [],
   "source": [
    "mainpath = r'D:\\phi_star_measurement\\4.2mm\\7um'\n"
    "experimentPath = glob.glob(mainpath+'\\**\\*_files')"
   ]
  },
  {
   "cell_type": "code",
   "execution_count": 3,
   "id": "5cf18ff0",
   "metadata": {},
   "outputs": [],
   "source": [
    "mainpath = r'D:\\Ring formation in flocks'\n",
    "#experimentPath = glob.glob(os.path.normpath(mainPath)+'\\*_files');\n",
    "experimentPath = glob.glob(mainpath+'\\*_files')"
   ]
  },
  {
   "cell_type": "code",
   "execution_count": 4,
   "id": "b8266dfa",
   "metadata": {},
   "outputs": [
    {
     "data": {
      "text/plain": [
       "['D:\\\\Ring formation in flocks\\\\2_files']"
      ]
     },
     "execution_count": 4,
     "metadata": {},
     "output_type": "execute_result"
    }
   ],
   "source": [
    "experimentPath"
   ]
  },
  {
   "cell_type": "code",
   "execution_count": 5,
   "id": "19d09fd7",
   "metadata": {
    "code_folding": []
   },
   "outputs": [
    {
     "name": "stdout",
     "output_type": "stream",
     "text": [
      "time taken by D:/Ring formation in flocks/2_files/Images/  is  34 minutes\n"
     ]
    }
   ],
   "source": [
    "# parallelization code set\n",
    "# Create  the file architecture \n",
    "# add the main path \n",
    "\n",
    "mainpath = r'D:\\Ring formation in flocks'\n",
    "#experimentPath = glob.glob(os.path.normpath(mainPath)+'\\*_files');\n",
    "experimentPath = glob.glob(mainpath+'\\*_files')\n",
    "\n",
    "# add the Images \n",
    "experimentPath = [s + '\\\\Images\\\\' for s in experimentPath];\n",
    "experimentPath = [s .replace('\\\\','/') for s in experimentPath];\n",
    "\n",
    "results = [];\n",
    "for Path in experimentPath:\n",
    "    # ~~~~~~~~~~~ Count the total number of frames within the \"Image\" folder ~~~~~~~~~~~~~\n",
    "    Total_Frames = len(glob.glob(Path +'*.tif'));\n",
    "    if (os.path.normpath(glob.glob(Path +'*.tif')[-1]).split(os.sep)[-1] == 'ImageBackground.tif'):\n",
    "        Total_Frames -= 1;\n",
    "    #~~~~~~~~~~~~~~~~~~~~~~~~~~~~~~~~~~~~~~~~~~~~~~~~~~~~~~~~~~~~~~~~~~~~~~~~~~~~~~~~~~~~~\n",
    "\n",
    "    # ~~~~~~~~~~~~ read the total number of images ~~~~~~~~~~~~~~~~~~~~~~~~~~~~~~~~~~~~~~~\n",
    "    N  = 6; # specify the number of workers ... do this judiciously  \n",
    "    Ram_size = 30;\n",
    "    memory_allocation = \"-Xmx\" + str(int (Ram_size/N)) + \"g\"; # N*memory alloc. not exceed the RAM size-1\n",
    "    pool = mp.Pool(processes=N);\n",
    "    #~~~~~~~~~~~~~~~~~~~~~~~~~~~~~~~~~~~~~~~~~~~~~~~~~~~~~~~~~~~~~~~~~~~~~~~~~~~~~~~~~~~~~\n",
    "\n",
    "    #~~~~~~~~~~~~~~~~create the chunk firsts and lasts (tested robust) ~~~~~~~~~~~~~~~~~~~\n",
    "    Chunk = (Total_Frames/N);\n",
    "    frame_start = [];\n",
    "    frame_finish =[];\n",
    "    inp_for_starmap =[];\n",
    "\n",
    "    for i in range(N):\n",
    "        frame_start.append(int(np.floor(i*Chunk)+1));\n",
    "        frame_finish.append(int(np.floor((i+1)*Chunk+1)));\n",
    "        inp_for_starmap.append(tuple([Path,frame_start[i],frame_finish[i],memory_allocation]));\n",
    "\n",
    "    #~~~~~~~~~~~~~create a \"main\" function for running the parallization code~~~~~~~~~~~~~\n",
    "    #~~~~ the __main__ function is not necessary on mac and linux .. window 's crap!~~~~~~\n",
    "\n",
    "    if __name__==\"__main__\":\n",
    "\n",
    "        # ~~~~~~~~~~~~~~~~~~~ create a temporary folder in C: Drive ~~~~~~~~~~~~~~~~~~~~~~\n",
    "        os.mkdir('C:/Temporary')\n",
    "\n",
    "        start = time.perf_counter();    \n",
    "        # creating N processes and executing them\n",
    "        results = pool.starmap(pnp, inp_for_starmap);\n",
    "        \n",
    "        # convert every float64 to float32\n",
    "        #for c in range(N):\n",
    "        #    results[c][results[c].select_dtypes(np.float64).columns] = results[c].select_dtypes(np.float64).astype(np.float32);\n",
    "\n",
    "        # measure the run time\n",
    "        finish = time.perf_counter();\n",
    "\n",
    "        # delete the temprorary folder in C: drive\n",
    "        shutil.rmtree('C:/Temporary');\n",
    "        \n",
    "        # closing the pool is very important!! creates problem with multiple running \n",
    "        pool.close()\n",
    "\n",
    "        # Transform the path name to the position for saving the .mat output\n",
    "        parts = os.path.normpath(Path).split(os.sep)[:-1];\n",
    "        parts.extend(['Analysis','1_Positions','Positions_NF.mat']);\n",
    "        mat_file_name = '/'.join(parts);\n",
    "\n",
    "        # Save the data in a .mat file \n",
    "        dictn = {\"XYF\":np.concatenate(results)};\n",
    "        sio.savemat(mat_file_name, dictn); \n",
    "        \n",
    "        # remove the large datasets from the memory and collect garbage \n",
    "        del(results);\n",
    "        del(dictn);\n",
    "        gc.collect( );\n",
    "        gc.collect(1);\n",
    "        gc.collect(2);\n",
    "        print(\"time taken by\",Path,\" is \", round((finish - start)/60),\"minutes\");"
   ]
  }
 ],
 "metadata": {
  "kernelspec": {
   "display_name": "Python 3 (ipykernel)",
   "language": "python",
   "name": "python3"
  },
  "language_info": {
   "codemirror_mode": {
    "name": "ipython",
    "version": 3
   },
   "file_extension": ".py",
   "mimetype": "text/x-python",
   "name": "python",
   "nbconvert_exporter": "python",
   "pygments_lexer": "ipython3",
   "version": "3.9.7"
  },
  "latex_envs": {
   "LaTeX_envs_menu_present": true,
   "autoclose": true,
   "autocomplete": true,
   "bibliofile": "biblio.bib",
   "cite_by": "apalike",
   "current_citInitial": 1,
   "eqLabelWithNumbers": true,
   "eqNumInitial": 1,
   "hotkeys": {
    "equation": "Ctrl-E",
    "itemize": "Ctrl-I"
   },
   "labels_anchors": false,
   "latex_user_defs": false,
   "report_style_numbering": false,
   "user_envs_cfg": false
  },
  "varInspector": {
   "cols": {
    "lenName": 16,
    "lenType": 16,
    "lenVar": 40
   },
   "kernels_config": {
    "python": {
     "delete_cmd_postfix": "",
     "delete_cmd_prefix": "del ",
     "library": "var_list.py",
     "varRefreshCmd": "print(var_dic_list())"
    },
    "r": {
     "delete_cmd_postfix": ") ",
     "delete_cmd_prefix": "rm(",
     "library": "var_list.r",
     "varRefreshCmd": "cat(var_dic_list()) "
    }
   },
   "types_to_exclude": [
    "module",
    "function",
    "builtin_function_or_method",
    "instance",
    "_Feature"
   ],
   "window_display": false
  }
 },
 "nbformat": 4,
 "nbformat_minor": 5
}
